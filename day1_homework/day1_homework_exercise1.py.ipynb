{
 "cells": [
  {
   "cell_type": "markdown",
   "metadata": {},
   "source": [
    "Exercise 1: Counting alignments"
   ]
  },
  {
   "cell_type": "code",
   "execution_count": 1,
   "metadata": {},
   "outputs": [],
   "source": [
    "#! /usr/bin/env python3 \n",
    "inputSam = '/Users/cmdb/data/results/SRR072893.sam'"
   ]
  },
  {
   "cell_type": "code",
   "execution_count": 2,
   "metadata": {},
   "outputs": [
    {
     "name": "stdout",
     "output_type": "stream",
     "text": [
      "2000000\n"
     ]
    }
   ],
   "source": [
    "Alignments = 0\n",
    "with open(inputSam, 'r') as f:\n",
    "    for line in f:\n",
    "        Alignments+=1 \n",
    "        \n",
    "print(Alignments)"
   ]
  },
  {
   "cell_type": "markdown",
   "metadata": {},
   "source": [
    "Exercise 2: Counting perfect alignments"
   ]
  },
  {
   "cell_type": "code",
   "execution_count": 3,
   "metadata": {},
   "outputs": [
    {
     "name": "stdout",
     "output_type": "stream",
     "text": [
      "1702765\n"
     ]
    }
   ],
   "source": [
    "perfectAlignments = 0\n",
    "with open(inputSam, 'r') as file:\n",
    "    for line in file:\n",
    "    \n",
    "        flags = line.rstrip().split('\\t')\n",
    "    \n",
    "        if \"NM:i:0\" in flags:\n",
    "            perfectAlignments +=1\n",
    "        \n",
    "print(perfectAlignments)\n",
    "    \n",
    "    \n"
   ]
  },
  {
   "cell_type": "markdown",
   "metadata": {},
   "source": [
    "Exercise 3: Printing chromosomes of first 10 alignments"
   ]
  },
  {
   "cell_type": "code",
   "execution_count": 4,
   "metadata": {
    "scrolled": true
   },
   "outputs": [
    {
     "name": "stdout",
     "output_type": "stream",
     "text": [
      "['2L', '2L', '2L', '2L', '2L', '2L', '2L', '2L', '2L', '2L']\n"
     ]
    }
   ],
   "source": [
    "chromPosition = []\n",
    "counter=0\n",
    "with open(inputSam, 'r') as file:\n",
    "    for line in file:\n",
    "        if counter<10:\n",
    "            flags = line.rstrip().split('\\t')\n",
    "            chromPosition.append(flags[2])\n",
    "            counter +=1\n",
    "        \n",
    "print(chromPosition)\n",
    "        \n",
    "\n",
    "        \n"
   ]
  },
  {
   "cell_type": "markdown",
   "metadata": {},
   "source": [
    "Exercise 4: Calculate average MAPQ score"
   ]
  },
  {
   "cell_type": "code",
   "execution_count": 5,
   "metadata": {},
   "outputs": [
    {
     "name": "stdout",
     "output_type": "stream",
     "text": [
      "59.6407825\n"
     ]
    }
   ],
   "source": [
    "totalMAPQ = 0 \n",
    "numSequences = 0 \n",
    "with open(inputSam, 'r') as file:\n",
    "    for line in file:\n",
    "        flags = line.rstrip().split('\\t')\n",
    "        MAPQ = int(flags[4])\n",
    "        totalMAPQ = totalMAPQ + MAPQ\n",
    "        numSequences +=1\n",
    "    averageMAPQ = totalMAPQ/numSequences\n",
    "    print(averageMAPQ)"
   ]
  },
  {
   "cell_type": "markdown",
   "metadata": {},
   "source": [
    "Exercise 5: Count number of reads starting in 2L between base 10000 and 20000"
   ]
  },
  {
   "cell_type": "code",
   "execution_count": 6,
   "metadata": {},
   "outputs": [
    {
     "name": "stdout",
     "output_type": "stream",
     "text": [
      "7550\n"
     ]
    }
   ],
   "source": [
    "numSequences = 0 \n",
    "with open(inputSam, 'r') as file:\n",
    "    for line in file:\n",
    "        flags = line.rstrip().split('\\t')\n",
    "        \n",
    "        basePosition = int(flags[3])\n",
    "        chromosome = flags[2]\n",
    "        if chromosome == '2L' and basePosition >= 10000 and basePosition <= 20000:\n",
    "            numSequences += 1 \n",
    "        \n",
    "print(numSequences)\n",
    "        "
   ]
  },
  {
   "cell_type": "code",
   "execution_count": null,
   "metadata": {},
   "outputs": [],
   "source": []
  }
 ],
 "metadata": {
  "kernelspec": {
   "display_name": "Python 3",
   "language": "python",
   "name": "python3"
  },
  "language_info": {
   "codemirror_mode": {
    "name": "ipython",
    "version": 3
   },
   "file_extension": ".py",
   "mimetype": "text/x-python",
   "name": "python",
   "nbconvert_exporter": "python",
   "pygments_lexer": "ipython3",
   "version": "3.6.10"
  }
 },
 "nbformat": 4,
 "nbformat_minor": 4
}
