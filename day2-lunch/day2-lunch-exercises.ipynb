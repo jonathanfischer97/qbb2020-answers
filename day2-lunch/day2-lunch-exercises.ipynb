{
 "cells": [
  {
   "cell_type": "markdown",
   "metadata": {},
   "source": [
    "# Exercise 1"
   ]
  },
  {
   "cell_type": "code",
   "execution_count": 11,
   "metadata": {},
   "outputs": [],
   "source": [
    "#load input and output files\n",
    "mapfile ='fly.txt'\n",
    "map_parse = open('parsed.txt', 'w')\n",
    "\n",
    "lines = [] #initialize list to append to\n",
    "with open(mapfile, 'r') as file: \n",
    "    for line in file:\n",
    "        if 'DROME' in line and 'FBgn' in line: \n",
    "            lines.append(line) #append each line with correct identifiers \n",
    "        \n",
    "for line in lines:\n",
    "    flybase = line.split()[-1]\n",
    "    ac = line.split()[-2]\n",
    "    map_parse.write(flybase + '\\t' + ac + '\\n') #write parsed list to output file\n",
    "    \n",
    "map_parse.close()\n",
    "        \n"
   ]
  },
  {
   "cell_type": "markdown",
   "metadata": {},
   "source": [
    "# Exercise 2"
   ]
  },
  {
   "cell_type": "code",
   "execution_count": 12,
   "metadata": {},
   "outputs": [],
   "source": [
    "def identify(map_parse, ctab, null =('pass' +'\\n')): #define function with three arguments \n",
    "    input1 = open(map_parse, 'r')\n",
    "    input2 = open(ctab, 'r')\n",
    "    output = open('/Users/cmdb/qbb2020-answers/day2-lunch/Identity_map.txt', 'w')\n",
    "    \n",
    "    #write columns from ctab file\n",
    "    output.write('t_id' + '\\t' + 'chr' + '\\t' + 'strand' + '\\t' + 'start' + '\\t' + 'end' + '\\t' + 't_name' + '\\t' + 'num_exons' + '\\t' + 'length' + '\\t' + 'gene_id' + '\\t' + 'gene_name' + '\\t' + 'cov' + '\\t' + 'FPKM' + '\\n')\n",
    "\n",
    "    dic ={} #initialize dictionary \n",
    "    \n",
    "    for line in input1:\n",
    "        if 'FBgn' in line:\n",
    "            line_split1 = line.split()\n",
    "            dic[line_split1[0]]=line_split1[1] #construct dictionary out of parsed file\n",
    "    \n",
    "    counter = 0 #initialize counter to limit output to <101 lines (not including passes)\n",
    "    for line2 in input2:\n",
    "        if 'FBgn' in line2:\n",
    "            if counter < 100:\n",
    "                line_split2 = line2.split()\n",
    "                FBgn = line_split2[-4]\n",
    "                if FBgn in dic: #find Flybase IDs in ctab file that match dictionary keys\n",
    "                    line_split2[-4] = dic[FBgn] \n",
    "                    output.write('\\t'.join(line_split2) + '\\n') #replace Flybase IDs with Uniprot IDs\n",
    "                    \n",
    "                    counter += 1\n",
    "                else:\n",
    "                    output.write(null) #signal no match with 'pass' if default argument\n",
    "                    \n",
    "                    \n",
    "    input1.close()\n",
    "    input2.close()\n",
    "    output.close()"
   ]
  },
  {
   "cell_type": "code",
   "execution_count": 13,
   "metadata": {},
   "outputs": [],
   "source": [
    "identify(map_parse = 'parsed.txt', ctab = '/Users/cmdb/data/results/stringtie/SRR072893/t_data.ctab')"
   ]
  },
  {
   "cell_type": "code",
   "execution_count": null,
   "metadata": {},
   "outputs": [],
   "source": []
  }
 ],
 "metadata": {
  "kernelspec": {
   "display_name": "Python 3",
   "language": "python",
   "name": "python3"
  },
  "language_info": {
   "codemirror_mode": {
    "name": "ipython",
    "version": 3
   },
   "file_extension": ".py",
   "mimetype": "text/x-python",
   "name": "python",
   "nbconvert_exporter": "python",
   "pygments_lexer": "ipython3",
   "version": "3.6.10"
  }
 },
 "nbformat": 4,
 "nbformat_minor": 4
}
